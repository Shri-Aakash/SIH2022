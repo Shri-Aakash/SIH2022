{
 "cells": [
  {
   "cell_type": "code",
   "execution_count": 10,
   "id": "352bf479",
   "metadata": {},
   "outputs": [],
   "source": [
    "import speech_recognition as sr\n",
    "import pyttsx3\n",
    "import pyaudio\n",
    "import gtts\n",
    "from playsound import playsound\n",
    "import random\n",
    "from datetime import datetime\n",
    "from pytz import timezone\n",
    "import pandas as pd"
   ]
  },
  {
   "cell_type": "code",
   "execution_count": 11,
   "id": "33fe7150",
   "metadata": {},
   "outputs": [
    {
     "name": "stdout",
     "output_type": "stream",
     "text": [
      "18:05 Saturday\n"
     ]
    }
   ],
   "source": [
    "format=\"%H:%M\"\n",
    "now=datetime.now(timezone('Asia/Kolkata'))\n",
    "now_t=now.strftime(format)\n",
    "day_t=datetime.today().strftime('%A')\n",
    "print(now_t,day_t)\n",
    "schedule=pd.read_csv('timetable.csv')\n",
    "#schedule.head()"
   ]
  },
  {
   "cell_type": "code",
   "execution_count": 12,
   "id": "5afa6a04",
   "metadata": {},
   "outputs": [],
   "source": [
    "r = sr.Recognizer()"
   ]
  },
  {
   "cell_type": "code",
   "execution_count": 13,
   "id": "195d4968",
   "metadata": {},
   "outputs": [],
   "source": [
    "def speechtotxt(speech):\n",
    "    if 'name' in speech:\n",
    "        print('My name is sigma')\n",
    "        tts=gtts.gTTS(\"My name is sigma\",tld='co.in',slow=False)\n",
    "        tts.save(\"hello.mp3\")\n",
    "        playsound(\"hello.mp3\")\n",
    "    \n",
    "    elif 'do' or 'do now' in speech:\n",
    "        #act=random.choice(activities)\n",
    "        #ch=gtts.gTTS(act)\n",
    "        #ch.save(\"activity.mp3\")\n",
    "        #playsound(\"activity.mp3\")\n",
    "        val=False\n",
    "        for i in range(1,len(schedule)-1):\n",
    "            if now_t>=schedule.loc[i,\"TIME\"] and now_t<=schedule.loc[i+1,\"TIME\"]:\n",
    "                act_t=schedule.loc[i,day_t]\n",
    "                action=gtts.gTTS(act_t,tld='co.in',slow=False)\n",
    "                print(act_t)\n",
    "                action.save(\"t_activity.mp3\")\n",
    "                playsound(\"t_activity.mp3\")\n",
    "                val=True\n",
    "                break\n",
    "        if not val:\n",
    "            action=gtts.gTTS(\"No activity. Take rest after a hard days work\",tld='co.in',slow=False)\n",
    "            print(action)\n",
    "            action.save(\"t_activity.mp3\")\n",
    "            playsound(\"t_activity.mp3\")\n",
    "    "
   ]
  },
  {
   "cell_type": "code",
   "execution_count": 14,
   "id": "3aae5f26",
   "metadata": {},
   "outputs": [
    {
     "name": "stdout",
     "output_type": "stream",
     "text": [
      "Speak:\n",
      "what is your name\n",
      "My name is sigma\n",
      "Speak:\n",
      "if you speak what is your name what should I do\n",
      "My name is sigma\n",
      "Speak:\n"
     ]
    },
    {
     "ename": "KeyboardInterrupt",
     "evalue": "",
     "output_type": "error",
     "traceback": [
      "\u001b[0;31m---------------------------------------------------------------------------\u001b[0m",
      "\u001b[0;31mKeyboardInterrupt\u001b[0m                         Traceback (most recent call last)",
      "\u001b[0;32m<ipython-input-14-68ba4c41652d>\u001b[0m in \u001b[0;36m<module>\u001b[0;34m\u001b[0m\n\u001b[1;32m      3\u001b[0m     \u001b[0;32mwith\u001b[0m \u001b[0msr\u001b[0m\u001b[0;34m.\u001b[0m\u001b[0mMicrophone\u001b[0m\u001b[0;34m(\u001b[0m\u001b[0;34m)\u001b[0m \u001b[0;32mas\u001b[0m \u001b[0msource\u001b[0m\u001b[0;34m:\u001b[0m\u001b[0;34m\u001b[0m\u001b[0;34m\u001b[0m\u001b[0m\n\u001b[1;32m      4\u001b[0m         \u001b[0mprint\u001b[0m\u001b[0;34m(\u001b[0m\u001b[0;34m\"Speak:\"\u001b[0m\u001b[0;34m)\u001b[0m\u001b[0;34m\u001b[0m\u001b[0;34m\u001b[0m\u001b[0m\n\u001b[0;32m----> 5\u001b[0;31m         \u001b[0maudio\u001b[0m \u001b[0;34m=\u001b[0m \u001b[0mr\u001b[0m\u001b[0;34m.\u001b[0m\u001b[0mlisten\u001b[0m\u001b[0;34m(\u001b[0m\u001b[0msource\u001b[0m\u001b[0;34m)\u001b[0m\u001b[0;34m\u001b[0m\u001b[0;34m\u001b[0m\u001b[0m\n\u001b[0m\u001b[1;32m      6\u001b[0m \u001b[0;34m\u001b[0m\u001b[0m\n\u001b[1;32m      7\u001b[0m         \u001b[0;32mtry\u001b[0m\u001b[0;34m:\u001b[0m\u001b[0;34m\u001b[0m\u001b[0;34m\u001b[0m\u001b[0m\n",
      "\u001b[0;32m~/anaconda3/envs/SR/lib/python3.6/site-packages/speech_recognition/__init__.py\u001b[0m in \u001b[0;36mlisten\u001b[0;34m(self, source, timeout, phrase_time_limit, snowboy_configuration)\u001b[0m\n\u001b[1;32m    650\u001b[0m                     \u001b[0;32mbreak\u001b[0m\u001b[0;34m\u001b[0m\u001b[0;34m\u001b[0m\u001b[0m\n\u001b[1;32m    651\u001b[0m \u001b[0;34m\u001b[0m\u001b[0m\n\u001b[0;32m--> 652\u001b[0;31m                 \u001b[0mbuffer\u001b[0m \u001b[0;34m=\u001b[0m \u001b[0msource\u001b[0m\u001b[0;34m.\u001b[0m\u001b[0mstream\u001b[0m\u001b[0;34m.\u001b[0m\u001b[0mread\u001b[0m\u001b[0;34m(\u001b[0m\u001b[0msource\u001b[0m\u001b[0;34m.\u001b[0m\u001b[0mCHUNK\u001b[0m\u001b[0;34m)\u001b[0m\u001b[0;34m\u001b[0m\u001b[0;34m\u001b[0m\u001b[0m\n\u001b[0m\u001b[1;32m    653\u001b[0m                 \u001b[0;32mif\u001b[0m \u001b[0mlen\u001b[0m\u001b[0;34m(\u001b[0m\u001b[0mbuffer\u001b[0m\u001b[0;34m)\u001b[0m \u001b[0;34m==\u001b[0m \u001b[0;36m0\u001b[0m\u001b[0;34m:\u001b[0m \u001b[0;32mbreak\u001b[0m  \u001b[0;31m# reached end of the stream\u001b[0m\u001b[0;34m\u001b[0m\u001b[0;34m\u001b[0m\u001b[0m\n\u001b[1;32m    654\u001b[0m                 \u001b[0mframes\u001b[0m\u001b[0;34m.\u001b[0m\u001b[0mappend\u001b[0m\u001b[0;34m(\u001b[0m\u001b[0mbuffer\u001b[0m\u001b[0;34m)\u001b[0m\u001b[0;34m\u001b[0m\u001b[0;34m\u001b[0m\u001b[0m\n",
      "\u001b[0;32m~/anaconda3/envs/SR/lib/python3.6/site-packages/speech_recognition/__init__.py\u001b[0m in \u001b[0;36mread\u001b[0;34m(self, size)\u001b[0m\n\u001b[1;32m    159\u001b[0m \u001b[0;34m\u001b[0m\u001b[0m\n\u001b[1;32m    160\u001b[0m         \u001b[0;32mdef\u001b[0m \u001b[0mread\u001b[0m\u001b[0;34m(\u001b[0m\u001b[0mself\u001b[0m\u001b[0;34m,\u001b[0m \u001b[0msize\u001b[0m\u001b[0;34m)\u001b[0m\u001b[0;34m:\u001b[0m\u001b[0;34m\u001b[0m\u001b[0;34m\u001b[0m\u001b[0m\n\u001b[0;32m--> 161\u001b[0;31m             \u001b[0;32mreturn\u001b[0m \u001b[0mself\u001b[0m\u001b[0;34m.\u001b[0m\u001b[0mpyaudio_stream\u001b[0m\u001b[0;34m.\u001b[0m\u001b[0mread\u001b[0m\u001b[0;34m(\u001b[0m\u001b[0msize\u001b[0m\u001b[0;34m,\u001b[0m \u001b[0mexception_on_overflow\u001b[0m\u001b[0;34m=\u001b[0m\u001b[0;32mFalse\u001b[0m\u001b[0;34m)\u001b[0m\u001b[0;34m\u001b[0m\u001b[0;34m\u001b[0m\u001b[0m\n\u001b[0m\u001b[1;32m    162\u001b[0m \u001b[0;34m\u001b[0m\u001b[0m\n\u001b[1;32m    163\u001b[0m         \u001b[0;32mdef\u001b[0m \u001b[0mclose\u001b[0m\u001b[0;34m(\u001b[0m\u001b[0mself\u001b[0m\u001b[0;34m)\u001b[0m\u001b[0;34m:\u001b[0m\u001b[0;34m\u001b[0m\u001b[0;34m\u001b[0m\u001b[0m\n",
      "\u001b[0;32m~/anaconda3/envs/SR/lib/python3.6/site-packages/pyaudio.py\u001b[0m in \u001b[0;36mread\u001b[0;34m(self, num_frames, exception_on_overflow)\u001b[0m\n\u001b[1;32m    606\u001b[0m                           paCanNotReadFromAnOutputOnlyStream)\n\u001b[1;32m    607\u001b[0m \u001b[0;34m\u001b[0m\u001b[0m\n\u001b[0;32m--> 608\u001b[0;31m         \u001b[0;32mreturn\u001b[0m \u001b[0mpa\u001b[0m\u001b[0;34m.\u001b[0m\u001b[0mread_stream\u001b[0m\u001b[0;34m(\u001b[0m\u001b[0mself\u001b[0m\u001b[0;34m.\u001b[0m\u001b[0m_stream\u001b[0m\u001b[0;34m,\u001b[0m \u001b[0mnum_frames\u001b[0m\u001b[0;34m,\u001b[0m \u001b[0mexception_on_overflow\u001b[0m\u001b[0;34m)\u001b[0m\u001b[0;34m\u001b[0m\u001b[0;34m\u001b[0m\u001b[0m\n\u001b[0m\u001b[1;32m    609\u001b[0m \u001b[0;34m\u001b[0m\u001b[0m\n\u001b[1;32m    610\u001b[0m     \u001b[0;32mdef\u001b[0m \u001b[0mget_read_available\u001b[0m\u001b[0;34m(\u001b[0m\u001b[0mself\u001b[0m\u001b[0;34m)\u001b[0m\u001b[0;34m:\u001b[0m\u001b[0;34m\u001b[0m\u001b[0;34m\u001b[0m\u001b[0m\n",
      "\u001b[0;31mKeyboardInterrupt\u001b[0m: "
     ]
    }
   ],
   "source": [
    "while True:\n",
    "    speech=''\n",
    "    with sr.Microphone() as source:\n",
    "        print(\"Speak:\")\n",
    "        audio = r.listen(source)\n",
    "    \n",
    "        try:\n",
    "            text = r.recognize_google(audio)\n",
    "            speech+=text\n",
    "\n",
    "        except:\n",
    "            print(\"Sorry\")\n",
    "        speech.lower()\n",
    "        print(speech)\n",
    "        if 'exit' in speech:\n",
    "            break\n",
    "        else:\n",
    "            speechtotxt(speech)"
   ]
  },
  {
   "cell_type": "code",
   "execution_count": 15,
   "id": "fc5be75a",
   "metadata": {},
   "outputs": [
    {
     "data": {
      "text/html": [
       "<div>\n",
       "<style scoped>\n",
       "    .dataframe tbody tr th:only-of-type {\n",
       "        vertical-align: middle;\n",
       "    }\n",
       "\n",
       "    .dataframe tbody tr th {\n",
       "        vertical-align: top;\n",
       "    }\n",
       "\n",
       "    .dataframe thead th {\n",
       "        text-align: right;\n",
       "    }\n",
       "</style>\n",
       "<table border=\"1\" class=\"dataframe\">\n",
       "  <thead>\n",
       "    <tr style=\"text-align: right;\">\n",
       "      <th></th>\n",
       "      <th>TIME</th>\n",
       "      <th>Monday</th>\n",
       "      <th>Tuesday</th>\n",
       "      <th>Wednesday</th>\n",
       "      <th>Thursday</th>\n",
       "      <th>Friday</th>\n",
       "      <th>Saturday</th>\n",
       "      <th>Sunday</th>\n",
       "    </tr>\n",
       "  </thead>\n",
       "  <tbody>\n",
       "    <tr>\n",
       "      <th>0</th>\n",
       "      <td>NaN</td>\n",
       "      <td>NaN</td>\n",
       "      <td>NaN</td>\n",
       "      <td>NaN</td>\n",
       "      <td>NaN</td>\n",
       "      <td>NaN</td>\n",
       "      <td>NaN</td>\n",
       "      <td>NaN</td>\n",
       "    </tr>\n",
       "    <tr>\n",
       "      <th>1</th>\n",
       "      <td>7:30</td>\n",
       "      <td>Wake Up</td>\n",
       "      <td>Wake Up</td>\n",
       "      <td>Wake Up</td>\n",
       "      <td>Wake Up</td>\n",
       "      <td>Wake Up</td>\n",
       "      <td>Wake Up</td>\n",
       "      <td>Wake Up</td>\n",
       "    </tr>\n",
       "    <tr>\n",
       "      <th>2</th>\n",
       "      <td>8:00</td>\n",
       "      <td>Brush and gets ready</td>\n",
       "      <td>Brush and gets ready</td>\n",
       "      <td>Brush and gets ready</td>\n",
       "      <td>Brush and gets ready</td>\n",
       "      <td>Brush and gets ready</td>\n",
       "      <td>Brush and gets ready</td>\n",
       "      <td>Brush and gets ready</td>\n",
       "    </tr>\n",
       "    <tr>\n",
       "      <th>3</th>\n",
       "      <td>8:30</td>\n",
       "      <td>Pooja</td>\n",
       "      <td>Pooja</td>\n",
       "      <td>Pooja</td>\n",
       "      <td>Pooja</td>\n",
       "      <td>Pooja</td>\n",
       "      <td>Pooja</td>\n",
       "      <td>Pooja</td>\n",
       "    </tr>\n",
       "    <tr>\n",
       "      <th>4</th>\n",
       "      <td>9:00</td>\n",
       "      <td>Breakfast while listening news</td>\n",
       "      <td>Breakfast while listening news</td>\n",
       "      <td>Breakfast while listening news</td>\n",
       "      <td>Breakfast while listening news</td>\n",
       "      <td>Breakfast while listening news</td>\n",
       "      <td>Breakfast while listening news</td>\n",
       "      <td>Breakfast while listening news</td>\n",
       "    </tr>\n",
       "  </tbody>\n",
       "</table>\n",
       "</div>"
      ],
      "text/plain": [
       "   TIME                          Monday                         Tuesday  \\\n",
       "0   NaN                             NaN                             NaN   \n",
       "1  7:30                         Wake Up                         Wake Up   \n",
       "2  8:00            Brush and gets ready            Brush and gets ready   \n",
       "3  8:30                           Pooja                           Pooja   \n",
       "4  9:00  Breakfast while listening news  Breakfast while listening news   \n",
       "\n",
       "                        Wednesday                        Thursday  \\\n",
       "0                             NaN                             NaN   \n",
       "1                         Wake Up                         Wake Up   \n",
       "2            Brush and gets ready            Brush and gets ready   \n",
       "3                           Pooja                           Pooja   \n",
       "4  Breakfast while listening news  Breakfast while listening news   \n",
       "\n",
       "                           Friday                        Saturday  \\\n",
       "0                             NaN                             NaN   \n",
       "1                         Wake Up                         Wake Up   \n",
       "2            Brush and gets ready            Brush and gets ready   \n",
       "3                           Pooja                           Pooja   \n",
       "4  Breakfast while listening news  Breakfast while listening news   \n",
       "\n",
       "                           Sunday  \n",
       "0                             NaN  \n",
       "1                         Wake Up  \n",
       "2            Brush and gets ready  \n",
       "3                           Pooja  \n",
       "4  Breakfast while listening news  "
      ]
     },
     "execution_count": 15,
     "metadata": {},
     "output_type": "execute_result"
    }
   ],
   "source": [
    "schedule.head()"
   ]
  },
  {
   "cell_type": "code",
   "execution_count": null,
   "id": "9a545b11",
   "metadata": {},
   "outputs": [],
   "source": []
  }
 ],
 "metadata": {
  "kernelspec": {
   "display_name": "Python 3",
   "language": "python",
   "name": "python3"
  },
  "language_info": {
   "codemirror_mode": {
    "name": "ipython",
    "version": 3
   },
   "file_extension": ".py",
   "mimetype": "text/x-python",
   "name": "python",
   "nbconvert_exporter": "python",
   "pygments_lexer": "ipython3",
   "version": "3.6.13"
  }
 },
 "nbformat": 4,
 "nbformat_minor": 5
}
